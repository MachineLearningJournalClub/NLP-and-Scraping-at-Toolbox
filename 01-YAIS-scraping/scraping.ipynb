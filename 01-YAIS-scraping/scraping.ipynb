{
 "cells": [
  {
   "cell_type": "markdown",
   "metadata": {
    "slideshow": {
     "slide_type": "slide"
    }
   },
   "source": [
    "# YAIS: Yet Another Introduction to Scraping\n",
    "\n",
    "###### Let's talk about scraping today!\n",
    "<br>\n",
    "<br>\n",
    "\n",
    "MLJC @ Toolbox"
   ]
  },
  {
   "cell_type": "markdown",
   "metadata": {
    "slideshow": {
     "slide_type": "slide"
    }
   },
   "source": [
    "#### Today's Big Mission\n",
    "\n",
    "* Understand the concepts underlying scraping to start being confident and scrape by yourself\n",
    "* Know about common pittfalls and scraping related problems "
   ]
  },
  {
   "cell_type": "markdown",
   "metadata": {
    "slideshow": {
     "slide_type": "slide"
    }
   },
   "source": [
    "To follow step by step: \n",
    "\n",
    "* create a virtual environment: `conda create -n scraping` or something else\n",
    "* activate the virtual env: `conda activate scraping`\n",
    "* install the deps: `pip install -r requirements.txt`\n",
    "* run the notebook: `jupyter notebook` or something else\n",
    "\n",
    "Github repo: @[MachineLearningJournalClub/YAIS-scraping](https://github.com/MachineLearningJournalClub/YAIS-scraping)"
   ]
  },
  {
   "cell_type": "markdown",
   "metadata": {
    "slideshow": {
     "slide_type": "fragment"
    }
   },
   "source": [
    "**Just stop me and ask whenever you want!**"
   ]
  },
  {
   "cell_type": "markdown",
   "metadata": {
    "slideshow": {
     "slide_type": "subslide"
    }
   },
   "source": [
    "#### What is scraping?\n",
    "\n",
    "Scraping is just a fancy word that stands for a **data collection** activity. To be more precise, scraping is a (not so new, did you ever heard *screen reading*?) way to perform data collection from webpages."
   ]
  },
  {
   "cell_type": "markdown",
   "metadata": {
    "slideshow": {
     "slide_type": "subslide"
    }
   },
   "source": [
    "#### Why scraping?\n",
    "\n",
    "\"*Data is the new oil*\" bla bla bla... To verify our hypthesis, get insights and to understand the world quantitatively, we just need data!\n",
    "\n",
    "Web is full of data but in a **unstructured** format, so scraping is just **searching + structuring information** in a way that is useful for our needs."
   ]
  },
  {
   "cell_type": "markdown",
   "metadata": {
    "slideshow": {
     "slide_type": "subslide"
    }
   },
   "source": [
    "#### When we should scrape the web?\n",
    "\n",
    "When an official API is not available!\n",
    "APIs are \"services\" that websites offers to give access to their data in a programmatic way. \n",
    "\n",
    "When a website release an API they are just implicitely telling us what data and how this data should be accessed.\n"
   ]
  },
  {
   "cell_type": "markdown",
   "metadata": {
    "slideshow": {
     "slide_type": "subslide"
    }
   },
   "source": [
    "Let's make a quick example with a [free access API](https://datausa.io/about/api/). "
   ]
  },
  {
   "cell_type": "code",
   "execution_count": 11,
   "metadata": {
    "slideshow": {
     "slide_type": "-"
    }
   },
   "outputs": [
    {
     "data": {
      "text/plain": [
       "328239523"
      ]
     },
     "execution_count": 11,
     "metadata": {},
     "output_type": "execute_result"
    }
   ],
   "source": [
    "# make a request to datausa.io APIt\n",
    "\n",
    "import requests\n",
    "\n",
    "url=\"https://datausa.io/api/data\"\n",
    "params={\"drilldowns\":\"Nation\",\n",
    "        \"measures\":\"Population\",\n",
    "        \"year\":\"latest\"}\n",
    "\n",
    "resp = requests.get(url, params)\n",
    "\n",
    "resp.json()['data'][0]['Population']\n"
   ]
  },
  {
   "cell_type": "code",
   "execution_count": 24,
   "metadata": {
    "slideshow": {
     "slide_type": "notes"
    }
   },
   "outputs": [
    {
     "name": "stdout",
     "output_type": "stream",
     "text": [
      "import requests\n",
      "import pprint\n",
      "\n",
      "url = \"https://datausa.io/api/data\"\n",
      "params = {\"drilldowns\":\"Nation\",\n",
      "          \"measures\": \"Population\",\n",
      "          \"year\": \"latest\"}\n",
      "\n",
      "resp = requests.get(url,params)\n",
      "resp.json()\n",
      "\n"
     ]
    }
   ],
   "source": [
    "# trick for reveal js speaker notes\n",
    "print(\"\"\"import requests\n",
    "import pprint\n",
    "\n",
    "url = \"https://datausa.io/api/data\"\n",
    "params = {\"drilldowns\":\"Nation\",\n",
    "          \"measures\": \"Population\",\n",
    "          \"year\": \"latest\"}\n",
    "\n",
    "resp = requests.get(url,params)\n",
    "resp.json()\n",
    "\"\"\")"
   ]
  },
  {
   "cell_type": "markdown",
   "metadata": {
    "slideshow": {
     "slide_type": "subslide"
    }
   },
   "source": [
    "Do we really need of scraping at all?\n",
    "* Websites saldomly provides APIs.\n",
    "* Usually an API requires a **paid subscription** or some form of **restricted access** (eg. [IMDB data](https://developer.imdb.com/)).\n",
    "* Usually APIs have some kind of **requests limits** to preserve server resources.\n",
    "* API doesn't provide the wanted data."
   ]
  },
  {
   "cell_type": "markdown",
   "metadata": {
    "slideshow": {
     "slide_type": "slide"
    }
   },
   "source": [
    "To get a solid understanding we need to get a glimpse of the fundamental blocks on which scraping libraries build upon, that is the *Fab Four* of the web tech stack.\n",
    "\n",
    "<img src=\"https://developer.mozilla.org/en-US/docs/Web/HTTP/Overview/http-layers.png\" width=40% align=center/>\n"
   ]
  },
  {
   "cell_type": "markdown",
   "metadata": {
    "slideshow": {
     "slide_type": "slide"
    }
   },
   "source": [
    "## HTTP\n",
    "\n",
    "A standardized protocol based on **client-server** model, which specify the structure of the messages sent between clients and servers \n"
   ]
  },
  {
   "cell_type": "markdown",
   "metadata": {
    "slideshow": {
     "slide_type": "subslide"
    }
   },
   "source": [
    "In the stone-age ...\n",
    "\n",
    "1. Client (aka *user-agent*) **send a request** to fetch the HTML page or a resource $\\rightarrow$ *whom to contact*? \n",
    "2. Server (should) send back a **reply** with the given resource $\\rightarrow$ *what could go [wrong](https://en.wikipedia.org/wiki/List_of_HTTP_status_codes#5xx_server_errors)*?\n",
    "3. Client **parse** the response, if it's a [successful one](https://en.wikipedia.org/wiki/List_of_HTTP_status_codes#2xx_success), **render** the content."
   ]
  },
  {
   "cell_type": "markdown",
   "metadata": {
    "slideshow": {
     "slide_type": "subslide"
    }
   },
   "source": [
    "... Nowadays\n",
    "<center> <img src=\"https://developer.mozilla.org/en-US/docs/Web/HTTP/Overview/fetching_a_page.png\" width=65% /> </center>"
   ]
  },
  {
   "cell_type": "markdown",
   "metadata": {
    "slideshow": {
     "slide_type": "subslide"
    }
   },
   "source": [
    "#### With a little help from my friends\n",
    "\n",
    "Let's [explore](https://developer.mozilla.org/en-US/) *developer tools' network* tab"
   ]
  },
  {
   "cell_type": "markdown",
   "metadata": {
    "slideshow": {
     "slide_type": "subslide"
    }
   },
   "source": [
    "We'll use [Requests](https://docs.python-requests.org/en/master/user/quickstart/) library in order to send and receive HTTP messages"
   ]
  },
  {
   "cell_type": "code",
   "execution_count": 16,
   "metadata": {
    "slideshow": {
     "slide_type": "-"
    }
   },
   "outputs": [
    {
     "data": {
      "text/plain": [
       "'<!DOCTYPE html><html lang=\"en-US\" prefix=\"og: https://ogp.me/ns#\"><head><meta charset=\"utf-8\"><meta name=\"viewport\" content=\"width=device-width,initial-scale=1\"><link rel=\"icon\" href=\"/favicon-48x48.97046865.png\"><link rel=\"apple-touch-icon\" href=\"/apple-touch-icon.0ea0fa02.png\"><meta name=\"theme-color\" content=\"#ffffff\"><link rel=\"manifest\" href=\"/manifest.56b1cedc.json\"><link rel=\"search\" type=\"application/opensearchdescription+xml\" href=\"/opensearch.xml\" title=\"MDN Web Docs\"><script>Array.prototype.flat&&Array.prototype.includes||document.write(\\'<script src=\"https://polyfill.io/v3/polyfill.min.js?features=Array.prototype.flat%2Ces6\"><\\\\/script>\\')</script><title>MDN Web Docs</title><link rel=\"preload\" as=\"font\" type=\"font/woff2\" crossorigin=\"\" href=\"/static/media/ZillaSlab-Bold.subset.0beac26b.woff2\"><meta name=\"description\" content=\"The MDN Web Docs site provides information about Open Web technologies including HTML, CSS, and APIs for both Web sites and progressive web apps.\"><meta property=\"og:url\" content=\"https://developer.mozilla.org\"><meta property=\"og:title\" content=\"MDN Web Docs\"><meta property=\"og:description\" content=\"The MDN Web Docs site provides information about Open Web technologies including HTML, CSS, and APIs for both Web sites and progressive web apps.\"><meta property=\"og:locale\" content=\"en-US\"><meta property=\"og:image\" content=\"https://developer.mozilla.org/mdn-social-share.0ca9dbda.png\"><meta property=\"twitter:card\" content=\"summary_large_image\"><meta name=\"robots\" content=\"index, follow\"><link rel=\"canonical\" href=\"https://developer.mozilla.org\"><style media=\"print\">.breadcrumbs-container,.document-toc-container,.language-menu,.language-toggle,.on-github,.page-footer,.page-header-main,nav.sidebar,ul.prev-next{display:none!important}.main-page-content,.main-page-content pre{padding:2px}.main-page-content pre{border-left-width:2px}</style><link href=\"/static/css/main.cd55b6e0.chunk.css\" rel=\"stylesheet\"><script>LUX=(function(){var a=(\"undefined\"!==typeof(LUX)&&\"undefined\"!==typeof(LUX.gaMarks)?LUX.gaMarks:[]);var d=(\"undefined\"!==typeof(LUX)&&\"undefined\"!==typeof(LUX.gaMeasures)?LUX.gaMeasures:[]);var j=\"LUX_start\";var k=window.performance;var l=(\"undefined\"!==typeof(LUX)&&LUX.ns?LUX.ns:(Date.now?Date.now():+(new Date())));if(k&&k.timing&&k.timing.navigationStart){l=k.timing.navigationStart}function f(){if(k&&k.now){return k.now()}var o=Date.now?Date.now():+(new Date());return o-l}function b(n){if(k){if(k.mark){return k.mark(n)}else{if(k.webkitMark){return k.webkitMark(n)}}}a.push({name:n,entryType:\"mark\",startTime:f(),duration:0});return}function m(p,t,n){if(\"undefined\"===typeof(t)&&h(j)){t=j}if(k){if(k.measure){if(t){if(n){return k.measure(p,t,n)}else{return k.measure(p,t)}}else{return k.measure(p)}}else{if(k.webkitMeasure){return k.webkitMeasure(p,t,n)}}}var r=0,o=f();if(t){var s=h(t);if(s){r=s.startTime}else{if(k&&k.timing&&k.timing[t]){r=k.timing[t]-k.timing.navigationStart}else{return}}}if(n){var q=h(n);if(q){o=q.startTime}else{if(k&&k.timing&&k.timing[n]){o=k.timing[n]-k.timing.navigationStart}else{return}}}d.push({name:p,entryType:\"measure\",startTime:r,duration:(o-r)});return}function h(n){return c(n,g())}function c(p,o){for(i=o.length-1;i>=0;i--){var n=o[i];if(p===n.name){return n}}return undefined}function g(){if(k){if(k.getEntriesByType){return k.getEntriesByType(\"mark\")}else{if(k.webkitGetEntriesByType){return k.webkitGetEntriesByType(\"mark\")}}}return a}return{mark:b,measure:m,gaMarks:a,gaMeasures:d}})();LUX.ns=(Date.now?Date.now():+(new Date()));LUX.ac=[];LUX.cmd=function(a){LUX.ac.push(a)};LUX.init=function(){LUX.cmd([\"init\"])};LUX.send=function(){LUX.cmd([\"send\"])};LUX.addData=function(a,b){LUX.cmd([\"addData\",a,b])};LUX_ae=[];window.addEventListener(\"error\",function(a){LUX_ae.push(a)});LUX_al=[];if(\"function\"===typeof(PerformanceObserver)&&\"function\"===typeof(PerformanceLongTaskTiming)){var LongTaskObserver=new PerformanceObserver(function(c){var b=c.getEntries();for(var a=0;a<b.length;a++){var d=b[a];LUX_al.push(d)}});try{LongTaskObserver.observe({type:[\"longtask\"]})}catch(e){}};</script><script src=\"https://cdn.speedcurve.com/js/lux.js?id=108906238\" async=\"\" defer=\"\" crossorigin=\"anonymous\"></script><script defer=\"\" src=\"/static/js/ga.js\"></script><script src=\"/static/js/runtime-main.17bdf7c0.js\" defer=\"\"></script><script src=\"/static/js/4.91805aeb.chunk.js\" defer=\"\"></script><script src=\"/static/js/main.28f7e84b.chunk.js\" defer=\"\"></script></head><body><div id=\"root\"><ul id=\"nav-access\" class=\"a11y-nav\"><li><a id=\"skip-main\" href=\"#content\">Skip to main content</a></li><li><a id=\"skip-search\" href=\"#main-q\">Skip to search</a></li></ul><div class=\"page-wrapper standard-page\"><header class=\"page-header\"><a href=\"/en-US/\" class=\"logo\" aria-label=\"MDN Web Docs\"><svg xmlns=\"http://www.w3.org/2000/svg\" viewBox=\"0 0 451.74 135\"><path d=\"M7.14 8.35v111.06h111.05V8.35zm103.71 56c-.48.92-1 1.79-1.46 2.71a3.44 3.44 0 01-3.54 2 2.4 2.4 0 00-1.55.5c-1.37.9-2.76 1.79-4.18 2.63a7.33 7.33 0 01-6.35.34 29.71 29.71 0 00-10.63-2 11.7 11.7 0 00-9.46 4.31 14.84 14.84 0 00-2.13 4.29c-1.24 3.07-2.3 21.38-2.3 26.05 0 0-17.62-3.42-34.15-20.34l4.31-11.32h-13.5l9.76-10.35h-16.8l9.77-10.34H12.69L30.45 34a40.9 40.9 0 0119.77-10.83c7.1-1.22 8.93-.53 13.31.77l2.43.73.85.25 3.1.95a12.56 12.56 0 006.21.09 11.37 11.37 0 018.25 1 8.24 8.24 0 014.1 6.22 7.29 7.29 0 003.61 5.49 59.45 59.45 0 009.32 4.11c2.27.86 4.54 1.84 6.79 2.72a6.81 6.81 0 012.86 2.06 4.81 4.81 0 011.1 2.73c.14 2 .37 4 .47 6a15.24 15.24 0 01-1.77 8.03zM320.12 39.62a5.42 5.42 0 00-4.53 2.13 7.36 7.36 0 00-1.7 4.43v2.36a6.28 6.28 0 001.7 4.46 5.63 5.63 0 004.3 1.82 5.12 5.12 0 004.57-2.27A9.7 9.7 0 00326 47a8.11 8.11 0 00-1.67-5.52 5.36 5.36 0 00-4.21-1.86zM387.38 39.53a5.52 5.52 0 00-4.7 2.15 8.8 8.8 0 00-1.63 5.49 9.23 9.23 0 001.58 5.45 5.38 5.38 0 004.7 2.25 5.61 5.61 0 004.74-2.2 8.91 8.91 0 001.68-5.59 8.24 8.24 0 00-1.75-5.52 5.76 5.76 0 00-4.62-2.03zM299.47 41.35a4.34 4.34 0 00-4-1.92 4.55 4.55 0 00-3.89 1.73 8.37 8.37 0 00-1.58 4.17h10.48a6.3 6.3 0 00-1.01-3.98zM357.74 30.75H352v23.31h5.72q5.47 0 8.35-3t2.93-8.65q0-5.43-2.88-8.55t-8.38-3.11z\"></path><path d=\"M121.55 8.35v70.8h323V8.35zm42.21 22.45h-4V54h3.68v3.73h-11.25V54h3.31V36.79h-.19l-9.63 19.12h-2.12l-10-19.4h-.19V54h3.45v3.73h-11.15V54h3.68V30.8h-4v-3.73H133l11.66 22.56h.19l11.18-22.56h7.7zm29.12 22.67q-4.11 4.28-11.38 4.28h-14.06v-3.69h3.73V30.75h-3.73v-3.68h13.83q7.59 0 11.66 4.29a15.4 15.4 0 014 11 15.33 15.33 0 01-4.05 11.11zm38.89-22.67h-3.68v27h-2.6L208.08 35h-.19v19h4.67v3.73h-12.22V54h3.49V30.8h-4v-3.73h7.08l16.9 22.09h.19V30.8h-4.58v-3.73h12.32zm43.8 27h-3.31l-7.83-23.18h-.19l-7.55 23.18h-3.35l-8.78-27h-2.65v-3.73H253v3.73h-3.87L255 50.71h.23l6.61-19.91H259v-3.73h11v3.73h-2.78l6.61 20.1h.23l5.43-20.1h-4.15v-3.73h11v3.73h-2.54zm26.71-1.51a9.66 9.66 0 01-6.42 2 10.2 10.2 0 01-7.41-2.74c-1.89-1.82-2.83-4.47-2.83-7.93a12.37 12.37 0 012.64-8.12 9 9 0 017.32-3.21 8.62 8.62 0 016.75 2.69 9.65 9.65 0 012.45 6.52 13.67 13.67 0 01-.28 2.69H290q.29 6.71 6.18 6.7a5.2 5.2 0 003.71-1.18 5.82 5.82 0 001.67-2.83l3.45.71a7.21 7.21 0 01-2.73 4.65zm25.77-1.63c-1.51 2.4-3.92 3.61-7.22 3.61s-5.84-1.29-7.22-3.87c0 .25-.1.82-.21 1.7s-.19 1.44-.22 1.7H309c.16-1 .31-2 .47-3.07a21.42 21.42 0 00.24-3.16v-23h-3.4v-3.3h7.55V40.9a9.76 9.76 0 012.67-3.28 7.33 7.33 0 014.74-1.4 8.48 8.48 0 016.5 2.78q2.55 2.74 2.55 7.74a14.6 14.6 0 01-2.27 7.87zm41.39-1.14q-4.11 4.28-11.37 4.28H344v-3.74h3.73V30.75H344v-3.68h13.83q7.59 0 11.66 4.29a15.41 15.41 0 014.06 11 15.34 15.34 0 01-4.11 11.11zm25.65 1.68a10.53 10.53 0 01-7.9 3.07 10 10 0 01-7.63-3 10.93 10.93 0 01-2.8-7.83 12.13 12.13 0 012.69-7.93q2.69-3.3 8-3.3t8 3.28a12 12 0 012.64 7.76 10.86 10.86 0 01-3 7.9zm22.61.57c-1.4 1.66-3.63 2.5-6.68 2.5a9.58 9.58 0 01-7.15-2.76q-2.72-2.76-2.71-7.91a12.25 12.25 0 012.69-8 9.17 9.17 0 017.5-3.28 15 15 0 013.82.48 10.37 10.37 0 013.5 1.65l.85 5.47-3.35.38-.76-3.54a8.07 8.07 0 00-4.11-1 4.9 4.9 0 00-4.39 2.15 9.93 9.93 0 00-1.41 5.55 8.9 8.9 0 001.5 5.38 5.23 5.23 0 004.44 2c2.92 0 4.67-1.7 5.23-5.1l3.5.71a10.34 10.34 0 01-2.47 5.27zm20.48.75a11.68 11.68 0 01-6.63 1.75 15.52 15.52 0 01-8.26-2.08L424 51l3.26.33-.1 2.74a7 7 0 002.06.66 12.63 12.63 0 002.19.19 8.68 8.68 0 003.66-.75 2.5 2.5 0 001.63-2.36 2.25 2.25 0 00-1.32-2.2 12.65 12.65 0 00-3.28-1 47.39 47.39 0 01-3.9-.82 7.5 7.5 0 01-3.25-1.7 4.67 4.67 0 01-1.33-3.66c0-2.36.88-4 2.62-4.91a12 12 0 015.6-1.37 15 15 0 014.08.55 16.65 16.65 0 013.47 1.39l.47 5.1-3.3.37-.48-3.3a9.5 9.5 0 00-4.06-.9 5.62 5.62 0 00-2.87.66 2.33 2.33 0 00-1.15 2.25 2.13 2.13 0 001.3 2.07 11.91 11.91 0 003.21.92 36.69 36.69 0 013.82.83 7.46 7.46 0 013.21 1.74 4.9 4.9 0 011.3 3.73 5.56 5.56 0 01-2.66 4.91z\"></path><path d=\"M181.17 30.75h-5.71v23.31h5.71q5.47 0 8.36-3t2.88-8.61q0-5.43-2.88-8.55t-8.36-3.15zM121.63 119.32V81.74h114.91v37.58zM153.22 109h-2v-6.85a4.8 4.8 0 00-1.58-4 5.57 5.57 0 00-3.55-1.26 5 5 0 00-4.92 3.26 4.19 4.19 0 00-1.88-2.46 5.82 5.82 0 00-3-.8 4.89 4.89 0 00-4.56 2.56v-2.21h-6.28v3.26h2v8.5h-2v3.23h9.11V109h-2.86v-5.25a4.4 4.4 0 01.69-2.56 2.47 2.47 0 012.21-1q2.57 0 2.56 3.63v8.41h6.29V109h-2v-5.25a4.47 4.47 0 01.67-2.56 2.42 2.42 0 012.19-1q2.63 0 2.63 3.63v8.41h6.28zm9.88-12.07q-4 0-6 2.36a8.41 8.41 0 00-2 5.66 7.25 7.25 0 002.17 5.62 8 8 0 005.65 2 8.54 8.54 0 005.94-2.11 7.27 7.27 0 002.34-5.67 8.21 8.21 0 00-2-5.51q-2.07-2.34-6.1-2.34zm-.1 12.35a3 3 0 01-2.63-1.33 5.68 5.68 0 01-.9-3.26 5 5 0 011-3.28 3.23 3.23 0 012.61-1.18 3.5 3.5 0 012.59 1.08 4.56 4.56 0 011.07 3.31 5.21 5.21 0 01-1 3.41 3.33 3.33 0 01-2.74 1.25zm25-2.3l-3.39-.29-.7 2.32H179l8.32-9.54-.32-2.23h-13.19l-.53 5.25 3.16.34.67-2.36h4.65l-8.25 9.53.44 2.26h13.13zm7.62-9.74h-4.46v5.39h4.46zm0 9.61h-4.46v5.39h4.46zm13.54-17.49h-4.23l-6.48 22.88h4.22zm8.68 0h-4.23l-6.45 22.88h4.19zm15 22.51l-.07-2.26a1.22 1.22 0 01-.56.1c-.69 0-1-.39-1-1.16v-6.49a4.39 4.39 0 00-1.8-3.84 7 7 0 00-4.16-1.28 14.55 14.55 0 00-3.16.3 24.14 24.14 0 00-3.29 1.06l-.56 3.46 3.39.4.5-1.69a2.78 2.78 0 011.08-.37 11.3 11.3 0 011.25-.07c1.19 0 1.89.37 2.09 1.1a8.55 8.55 0 01.3 2.26v.5a8.91 8.91 0 00-1.18-.11h-1.21a12.64 12.64 0 00-4.81.88 3.53 3.53 0 00-2.18 3.64 3.66 3.66 0 001.48 3.33 5.63 5.63 0 003.11 1 4.67 4.67 0 003-.91 6.78 6.78 0 001.8-2 3 3 0 003.33 3 5.54 5.54 0 002.66-.85zm-9.25-2.32a1.69 1.69 0 01-1.36-.52 1.81 1.81 0 01-.43-1.21 1.67 1.67 0 01.86-1.68 4.63 4.63 0 012-.42 7.69 7.69 0 011.07.07l1.06.13a3.58 3.58 0 01-1.08 2.74 3.24 3.24 0 01-2.11.89z\"></path></svg></a><button type=\"button\" class=\"ghost main-menu-toggle\" aria-haspopup=\"true\" aria-label=\"Show Menu\"></button><div class=\"page-header-main \"><nav class=\"main-nav\" aria-label=\"Main menu\"><ul class=\"main-menu nojs\"><li class=\"top-level-entry-container\"><button id=\"technologies-button\" type=\"button\" class=\"top-level-entry\" aria-haspopup=\"menu\" aria-expanded=\"false\">Technologies</button><ul class=\"technologies \" role=\"menu\" aria-labelledby=\"technologies-button\"><li role=\"none\"><a tabindex=\"-1\" href=\"/en-US/docs/Web\" role=\"menuitem\">Technologies Overview</a></li><li role=\"none\"><a tabindex=\"-1\" href=\"/en-US/docs/Web/HTML\" role=\"menuitem\">HTML</a></li><li role=\"none\"><a tabindex=\"-1\" href=\"/en-US/docs/Web/CSS\" role=\"menuitem\">CSS</a></li><li role=\"none\"><a tabindex=\"-1\" href=\"/en-US/docs/Web/JavaScript\" role=\"menuitem\">JavaScript</a></li><li role=\"none\"><a tabindex=\"-1\" href=\"/en-US/docs/Web/Guide/Graphics\" role=\"menuitem\">Graphics</a></li><li role=\"none\"><a tabindex=\"-1\" href=\"/en-US/docs/Web/HTTP\" role=\"menuitem\">HTTP</a></li><li role=\"none\"><a tabindex=\"-1\" href=\"/en-US/docs/Web/API\" role=\"menuitem\">APIs</a></li><li role=\"none\"><a tabindex=\"-1\" href=\"/en-US/docs/Mozilla/Add-ons/WebExtensions\" role=\"menuitem\">Browser Extensions</a></li><li role=\"none\"><a tabindex=\"-1\" href=\"/en-US/docs/Web/MathML\" role=\"menuitem\">MathML</a></li></ul></li><li class=\"top-level-entry-container\"><button id=\"references-guides-button\" type=\"button\" class=\"top-level-entry\" aria-haspopup=\"menu\" aria-expanded=\"false\">References &amp; Guides</button><ul class=\"references-guides \" role=\"menu\" aria-labelledby=\"references-guides-button\"><li role=\"none\"><a tabindex=\"-1\" href=\"/en-US/docs/Learn\" role=\"menuitem\">Learn web development</a></li><li role=\"none\"><a tabindex=\"-1\" href=\"/en-US/docs/Web/Tutorials\" role=\"menuitem\">Tutorials</a></li><li role=\"none\"><a tabindex=\"-1\" href=\"/en-US/docs/Web/Reference\" role=\"menuitem\">References</a></li><li role=\"none\"><a tabindex=\"-1\" href=\"/en-US/docs/Web/Guide\" role=\"menuitem\">Developer Guides</a></li><li role=\"none\"><a tabindex=\"-1\" href=\"/en-US/docs/Web/Accessibility\" role=\"menuitem\">Accessibility</a></li><li role=\"none\"><a tabindex=\"-1\" href=\"/en-US/docs/Games\" role=\"menuitem\">Game development</a></li><li role=\"none\"><a tabindex=\"-1\" href=\"/en-US/docs/Web\" role=\"menuitem\">...more docs</a></li></ul></li><li class=\"top-level-entry-container\"><button id=\"feedback-button\" type=\"button\" class=\"top-level-entry\" aria-haspopup=\"menu\" aria-expanded=\"false\">Feedback</button><ul class=\"feedback \" role=\"menu\" aria-labelledby=\"feedback-button\"><li role=\"none\"><a tabindex=\"-1\" href=\"/en-US/docs/MDN/Contribute/Feedback\" role=\"menuitem\">Send Feedback</a></li><li role=\"none\"><a tabindex=\"-1\" href=\"/en-US/docs/MDN/Contribute\" role=\"menuitem\">Contribute to MDN</a></li><li role=\"none\"><a tabindex=\"-1\" target=\"_blank\" rel=\"noopener noreferrer\" href=\"https://github.com/mdn/content/issues/new\" role=\"menuitem\">Report a content issue<!-- --> 🌐</a></li><li role=\"none\"><a tabindex=\"-1\" target=\"_blank\" rel=\"noopener noreferrer\" href=\"https://github.com/mdn/yari/issues/new\" role=\"menuitem\">Report a platform issue<!-- --> 🌐</a></li></ul></li></ul></nav><div class=\"header-search\"><form action=\"/en-US/search\" class=\"search-form search-widget\" role=\"search\"><label for=\"main-q\" class=\"visually-hidden\">Search MDN</label><input type=\"search\" name=\"q\" id=\"main-q\" class=\"search-input-field\" placeholder=\"Site search... (Press &quot;/&quot; to focus)\" pattern=\"(.|\\\\s)*\\\\S(.|\\\\s)*\" required=\"\" value=\"\"><input type=\"submit\" class=\"ghost search-button\" value=\"\" aria-label=\"Search\"></form></div><div class=\"auth-container\"></div></div></header><main id=\"content\" role=\"main\"><div class=\"hero\"><div class=\"hero-content\"><h1>Resources for developers, by developers.</h1><ul><li><a href=\"/en-US/docs/Web\">Web Technologies</a></li><li><a href=\"/en-US/docs/Learn\">Learn Web Development</a></li><li><a href=\"/en-US/docs/Tools\">Developer Tools</a></li></ul></div></div><div class=\"home-content-container\"><div class=\"blog-feed\"><h2>Hacks Blog</h2><p><a href=\"http://hacks.mozilla.org/\" class=\"blog-link\">Read more at hacks.mozilla.org</a></p><ul><li class=\"readable-line-length\"><h3><a href=\"https://hacks.mozilla.org/2021/12/webassembly-and-back-again-fine-grained-sandboxing-in-firefox-95/\">WebAssembly and Back Again: Fine-Grained Sandboxing in Firefox 95</a></h3><p>In Firefox 95, we\\'re shipping a novel sandboxing technology called RLBox — developed in collaboration with researchers at the University of California San Diego and the University of Texas — that makes it easy and efficient to isolate subcomponents to make the browser more secure. This technology opens up new opportunities beyond what\\'s been possible with traditional process-based sandboxing, and we look forward to expanding its usage and (hopefully) seeing it adopted in other browsers and software projects.The post WebAssembly and Back Again: Fine-Grained Sandboxing in Firefox 95 appeared first on Mozilla Hacks - the Web developer blog.</p><p class=\"post-meta\">Posted <!-- -->Monday, December 6, 2021<!-- --> by <!-- -->Bobby Holley</p></li><li class=\"readable-line-length\"><h3><a href=\"https://hacks.mozilla.org/2021/11/hacks-decoded-seyi-akiwowo-founder-of-glitch/\">Hacks Decoded: Seyi Akiwowo, Founder of Glitch</a></h3><p>Seyi Akiwowo’s reputation precedes her. Akiwowo is the founder of Glitch, an organization that seeks to end online abuse.&nbsp;We spoke with Seyi over video chat to learn about what drives her, why she does what she does and what she’d be doing if not battling trolls online for a living. The post Hacks Decoded: Seyi Akiwowo, Founder of Glitch appeared first on Mozilla Hacks - the Web developer blog.</p><p class=\"post-meta\">Posted <!-- -->Tuesday, November 30, 2021<!-- --> by <!-- -->Xavier Harding</p></li><li class=\"readable-line-length\"><h3><a href=\"https://hacks.mozilla.org/2021/10/hacks-decoded-thomas-park-founder-of-codepip/\">Hacks Decoded: Thomas Park, Founder of Codepip</a></h3><p>Welcome to our Hacks: Decoded Interview series! We spoke with Thomas Park over email about coding, his favourite apps and his past life at Mozilla. Thomas is the founder of Codepip, a platform he created for coding games that helps people learn HTML, CSS, JavaScript, etc. The most popular game is Flexbox Froggy.The post Hacks Decoded: Thomas Park, Founder of Codepip appeared first on Mozilla Hacks - the Web developer blog.</p><p class=\"post-meta\">Posted <!-- -->Wednesday, October 20, 2021<!-- --> by <!-- -->Xavier Harding</p></li><li class=\"readable-line-length\"><h3><a href=\"https://hacks.mozilla.org/2021/10/lots-to-see-in-firefox-93/\">Lots to see in Firefox 93!</a></h3><p>Firefox 93 comes with lots of lovely updates including AVIF image format support, filling of XFA-based forms in its PDF viewer and protection against insecure downloads by blocking downloads relying on insecure connections.The post Lots to see in Firefox 93! appeared first on Mozilla Hacks - the Web developer blog.</p><p class=\"post-meta\">Posted <!-- -->Friday, October 8, 2021<!-- --> by <!-- -->Ruth John</p></li><li class=\"readable-line-length\"><h3><a href=\"https://hacks.mozilla.org/2021/10/implementing-form-filling-and-accessibility-in-the-firefox-pdf-viewer/\">Implementing form filling and accessibility in the Firefox PDF viewer</a></h3><p>Last year, during lockdown, many discovered the importance of PDF forms when having to deal remotely with administrations and large organizations like banks. Firefox supported displaying PDF forms, but it didn’t support filling them: users had to print them, fill them by hand, and scan them back to digital form. We decided it was time to reinvest in the PDF viewer (PDF.js) and support filling PDF forms within Firefox to make our users\\' lives easier.The post Implementing form filling and accessibility in the Firefox PDF viewer appeared first on Mozilla Hacks - the Web developer blog.</p><p class=\"post-meta\">Posted <!-- -->Thursday, October 7, 2021<!-- --> by <!-- -->bdahl</p></li></ul></div><div class=\"contribute\"><h2>Help improve MDN Web Docs</h2><p>All parts of MDN (docs and the site itself) are created by an open community of developers. Please join us! Pick one of these ways to help:</p><ul><li><a href=\"/en-US/docs/MDN/Getting_started\">Getting started</a></li><li><a href=\"/en-US/docs/MDN/Contribute\">Contributing to MDN content</a></li><li><a href=\"https://github.com/mdn/yari#readme\">Contributing to the MDN codebase</a></li><li><a href=\"https://github.com/mdn/browser-compat-data\">Updating browser compatibility data</a></li></ul></div></div></main></div><footer id=\"nav-footer\" class=\"page-footer\"><div class=\"content-container\"><div class=\"page-footer-logo\"><a href=\"/en-US/\" class=\"logo\" aria-label=\"MDN Web Docs\"><svg xmlns=\"http://www.w3.org/2000/svg\" viewBox=\"0 0 451.74 135\" fill=\"#fff\"><path d=\"M7.14 8.35v111.06h111.05V8.35zm103.71 56c-.48.92-1 1.79-1.46 2.71a3.44 3.44 0 01-3.54 2 2.4 2.4 0 00-1.55.5c-1.37.9-2.76 1.79-4.18 2.63a7.33 7.33 0 01-6.35.34 29.71 29.71 0 00-10.63-2 11.7 11.7 0 00-9.46 4.31 14.84 14.84 0 00-2.13 4.29c-1.24 3.07-2.3 21.38-2.3 26.05 0 0-17.62-3.42-34.15-20.34l4.31-11.32h-13.5l9.76-10.35h-16.8l9.77-10.34H12.69L30.45 34a40.9 40.9 0 0119.77-10.83c7.1-1.22 8.93-.53 13.31.77l2.43.73.85.25 3.1.95a12.56 12.56 0 006.21.09 11.37 11.37 0 018.25 1 8.24 8.24 0 014.1 6.22 7.29 7.29 0 003.61 5.49 59.45 59.45 0 009.32 4.11c2.27.86 4.54 1.84 6.79 2.72a6.81 6.81 0 012.86 2.06 4.81 4.81 0 011.1 2.73c.14 2 .37 4 .47 6a15.24 15.24 0 01-1.77 8.03zM320.12 39.62a5.42 5.42 0 00-4.53 2.13 7.36 7.36 0 00-1.7 4.43v2.36a6.28 6.28 0 001.7 4.46 5.63 5.63 0 004.3 1.82 5.12 5.12 0 004.57-2.27A9.7 9.7 0 00326 47a8.11 8.11 0 00-1.67-5.52 5.36 5.36 0 00-4.21-1.86zM387.38 39.53a5.52 5.52 0 00-4.7 2.15 8.8 8.8 0 00-1.63 5.49 9.23 9.23 0 001.58 5.45 5.38 5.38 0 004.7 2.25 5.61 5.61 0 004.74-2.2 8.91 8.91 0 001.68-5.59 8.24 8.24 0 00-1.75-5.52 5.76 5.76 0 00-4.62-2.03zM299.47 41.35a4.34 4.34 0 00-4-1.92 4.55 4.55 0 00-3.89 1.73 8.37 8.37 0 00-1.58 4.17h10.48a6.3 6.3 0 00-1.01-3.98zM357.74 30.75H352v23.31h5.72q5.47 0 8.35-3t2.93-8.65q0-5.43-2.88-8.55t-8.38-3.11z\"></path><path d=\"M121.55 8.35v70.8h323V8.35zm42.21 22.45h-4V54h3.68v3.73h-11.25V54h3.31V36.79h-.19l-9.63 19.12h-2.12l-10-19.4h-.19V54h3.45v3.73h-11.15V54h3.68V30.8h-4v-3.73H133l11.66 22.56h.19l11.18-22.56h7.7zm29.12 22.67q-4.11 4.28-11.38 4.28h-14.06v-3.69h3.73V30.75h-3.73v-3.68h13.83q7.59 0 11.66 4.29a15.4 15.4 0 014 11 15.33 15.33 0 01-4.05 11.11zm38.89-22.67h-3.68v27h-2.6L208.08 35h-.19v19h4.67v3.73h-12.22V54h3.49V30.8h-4v-3.73h7.08l16.9 22.09h.19V30.8h-4.58v-3.73h12.32zm43.8 27h-3.31l-7.83-23.18h-.19l-7.55 23.18h-3.35l-8.78-27h-2.65v-3.73H253v3.73h-3.87L255 50.71h.23l6.61-19.91H259v-3.73h11v3.73h-2.78l6.61 20.1h.23l5.43-20.1h-4.15v-3.73h11v3.73h-2.54zm26.71-1.51a9.66 9.66 0 01-6.42 2 10.2 10.2 0 01-7.41-2.74c-1.89-1.82-2.83-4.47-2.83-7.93a12.37 12.37 0 012.64-8.12 9 9 0 017.32-3.21 8.62 8.62 0 016.75 2.69 9.65 9.65 0 012.45 6.52 13.67 13.67 0 01-.28 2.69H290q.29 6.71 6.18 6.7a5.2 5.2 0 003.71-1.18 5.82 5.82 0 001.67-2.83l3.45.71a7.21 7.21 0 01-2.73 4.65zm25.77-1.63c-1.51 2.4-3.92 3.61-7.22 3.61s-5.84-1.29-7.22-3.87c0 .25-.1.82-.21 1.7s-.19 1.44-.22 1.7H309c.16-1 .31-2 .47-3.07a21.42 21.42 0 00.24-3.16v-23h-3.4v-3.3h7.55V40.9a9.76 9.76 0 012.67-3.28 7.33 7.33 0 014.74-1.4 8.48 8.48 0 016.5 2.78q2.55 2.74 2.55 7.74a14.6 14.6 0 01-2.27 7.87zm41.39-1.14q-4.11 4.28-11.37 4.28H344v-3.74h3.73V30.75H344v-3.68h13.83q7.59 0 11.66 4.29a15.41 15.41 0 014.06 11 15.34 15.34 0 01-4.11 11.11zm25.65 1.68a10.53 10.53 0 01-7.9 3.07 10 10 0 01-7.63-3 10.93 10.93 0 01-2.8-7.83 12.13 12.13 0 012.69-7.93q2.69-3.3 8-3.3t8 3.28a12 12 0 012.64 7.76 10.86 10.86 0 01-3 7.9zm22.61.57c-1.4 1.66-3.63 2.5-6.68 2.5a9.58 9.58 0 01-7.15-2.76q-2.72-2.76-2.71-7.91a12.25 12.25 0 012.69-8 9.17 9.17 0 017.5-3.28 15 15 0 013.82.48 10.37 10.37 0 013.5 1.65l.85 5.47-3.35.38-.76-3.54a8.07 8.07 0 00-4.11-1 4.9 4.9 0 00-4.39 2.15 9.93 9.93 0 00-1.41 5.55 8.9 8.9 0 001.5 5.38 5.23 5.23 0 004.44 2c2.92 0 4.67-1.7 5.23-5.1l3.5.71a10.34 10.34 0 01-2.47 5.27zm20.48.75a11.68 11.68 0 01-6.63 1.75 15.52 15.52 0 01-8.26-2.08L424 51l3.26.33-.1 2.74a7 7 0 002.06.66 12.63 12.63 0 002.19.19 8.68 8.68 0 003.66-.75 2.5 2.5 0 001.63-2.36 2.25 2.25 0 00-1.32-2.2 12.65 12.65 0 00-3.28-1 47.39 47.39 0 01-3.9-.82 7.5 7.5 0 01-3.25-1.7 4.67 4.67 0 01-1.33-3.66c0-2.36.88-4 2.62-4.91a12 12 0 015.6-1.37 15 15 0 014.08.55 16.65 16.65 0 013.47 1.39l.47 5.1-3.3.37-.48-3.3a9.5 9.5 0 00-4.06-.9 5.62 5.62 0 00-2.87.66 2.33 2.33 0 00-1.15 2.25 2.13 2.13 0 001.3 2.07 11.91 11.91 0 003.21.92 36.69 36.69 0 013.82.83 7.46 7.46 0 013.21 1.74 4.9 4.9 0 011.3 3.73 5.56 5.56 0 01-2.66 4.91z\"></path><path d=\"M181.17 30.75h-5.71v23.31h5.71q5.47 0 8.36-3t2.88-8.61q0-5.43-2.88-8.55t-8.36-3.15zM121.63 119.32V81.74h114.91v37.58zM153.22 109h-2v-6.85a4.8 4.8 0 00-1.58-4 5.57 5.57 0 00-3.55-1.26 5 5 0 00-4.92 3.26 4.19 4.19 0 00-1.88-2.46 5.82 5.82 0 00-3-.8 4.89 4.89 0 00-4.56 2.56v-2.21h-6.28v3.26h2v8.5h-2v3.23h9.11V109h-2.86v-5.25a4.4 4.4 0 01.69-2.56 2.47 2.47 0 012.21-1q2.57 0 2.56 3.63v8.41h6.29V109h-2v-5.25a4.47 4.47 0 01.67-2.56 2.42 2.42 0 012.19-1q2.63 0 2.63 3.63v8.41h6.28zm9.88-12.07q-4 0-6 2.36a8.41 8.41 0 00-2 5.66 7.25 7.25 0 002.17 5.62 8 8 0 005.65 2 8.54 8.54 0 005.94-2.11 7.27 7.27 0 002.34-5.67 8.21 8.21 0 00-2-5.51q-2.07-2.34-6.1-2.34zm-.1 12.35a3 3 0 01-2.63-1.33 5.68 5.68 0 01-.9-3.26 5 5 0 011-3.28 3.23 3.23 0 012.61-1.18 3.5 3.5 0 012.59 1.08 4.56 4.56 0 011.07 3.31 5.21 5.21 0 01-1 3.41 3.33 3.33 0 01-2.74 1.25zm25-2.3l-3.39-.29-.7 2.32H179l8.32-9.54-.32-2.23h-13.19l-.53 5.25 3.16.34.67-2.36h4.65l-8.25 9.53.44 2.26h13.13zm7.62-9.74h-4.46v5.39h4.46zm0 9.61h-4.46v5.39h4.46zm13.54-17.49h-4.23l-6.48 22.88h4.22zm8.68 0h-4.23l-6.45 22.88h4.19zm15 22.51l-.07-2.26a1.22 1.22 0 01-.56.1c-.69 0-1-.39-1-1.16v-6.49a4.39 4.39 0 00-1.8-3.84 7 7 0 00-4.16-1.28 14.55 14.55 0 00-3.16.3 24.14 24.14 0 00-3.29 1.06l-.56 3.46 3.39.4.5-1.69a2.78 2.78 0 011.08-.37 11.3 11.3 0 011.25-.07c1.19 0 1.89.37 2.09 1.1a8.55 8.55 0 01.3 2.26v.5a8.91 8.91 0 00-1.18-.11h-1.21a12.64 12.64 0 00-4.81.88 3.53 3.53 0 00-2.18 3.64 3.66 3.66 0 001.48 3.33 5.63 5.63 0 003.11 1 4.67 4.67 0 003-.91 6.78 6.78 0 001.8-2 3 3 0 003.33 3 5.54 5.54 0 002.66-.85zm-9.25-2.32a1.69 1.69 0 01-1.36-.52 1.81 1.81 0 01-.43-1.21 1.67 1.67 0 01.86-1.68 4.63 4.63 0 012-.42 7.69 7.69 0 011.07.07l1.06.13a3.58 3.58 0 01-1.08 2.74 3.24 3.24 0 01-2.11.89z\"></path></svg></a></div><ul class=\"link-list-mdn\"><li><a href=\"/en-US/docs/Web\">Web Technologies</a></li><li><a href=\"/en-US/docs/Learn\">Learn Web Development</a></li><li><a href=\"/en-US/docs/MDN/About\">About MDN</a></li><li><a href=\"/en-US/docs/MDN/Feedback\">Feedback</a></li></ul><ul class=\"link-list-moz\"><li><a href=\"https://www.mozilla.org/about/\" target=\"_blank\" rel=\"noopener noreferrer\">About</a></li><li><a href=\"https://shop.spreadshirt.com/mdn-store/\" target=\"_blank\" rel=\"noopener noreferrer\">MDN Web Docs Store</a></li><li><a href=\"https://www.mozilla.org/contact/\" target=\"_blank\" rel=\"noopener noreferrer\">Contact Us</a></li><li><a href=\"https://www.mozilla.org/firefox/?utm_source=developer.mozilla.org&amp;utm_campaign=footer&amp;utm_medium=referral\" target=\"_blank\" rel=\"noopener noreferrer\">Firefox</a></li></ul><div class=\"social social-mdn\"><h4>MDN</h4><ul><li><a class=\"social-icon twitter\" href=\"https://twitter.com/mozdevnet\" target=\"_blank\" rel=\"noopener noreferrer\"><span class=\"visually-hidden\">MDN on Twitter</span></a></li><li><a class=\"social-icon github\" href=\"https://github.com/mdn/\" target=\"_blank\" rel=\"noopener noreferrer\"><span class=\"visually-hidden\">MDN on Github</span></a></li></ul></div><div class=\"social social-moz\"><h4>Mozilla</h4><ul><li><a class=\"social-icon twitter\" href=\"https://twitter.com/mozilla\" target=\"_blank\" rel=\"noopener noreferrer\"><span class=\"visually-hidden\">Mozilla on Twitter</span></a></li><li><a class=\"social-icon instagram\" href=\"https://www.instagram.com/mozillagram/\" target=\"_blank\" rel=\"noopener noreferrer\"><span class=\"visually-hidden\">Mozilla on Instagram</span></a></li></ul></div><p id=\"license\" class=\"footer-license\">© 2005-<!-- -->2021<!-- --> Mozilla and individual contributors. Content is available under<!-- --> <a href=\"/docs/MDN/About#Copyrights_and_licenses\">these licenses</a>.</p><ul class=\"footer-legal\"><li><a href=\"https://www.mozilla.org/about/legal/terms/mozilla\" target=\"_blank\" rel=\"noopener noreferrer\">Terms</a></li><li><a href=\"https://www.mozilla.org/privacy/websites/\" target=\"_blank\" rel=\"noopener noreferrer\">Privacy</a></li><li><a href=\"https://www.mozilla.org/privacy/websites/#cookies\" target=\"_blank\" rel=\"noopener noreferrer\">Cookies</a></li></ul></div></footer><div class=\"page-overlay hidden\"></div></div><script type=\"application/json\" id=\"hydration\">{\"feedEntries\":[{\"url\":\"https://hacks.mozilla.org/2021/12/webassembly-and-back-again-fine-grained-sandboxing-in-firefox-95/\",\"title\":\"WebAssembly and Back Again: Fine-Grained Sandboxing in Firefox 95\",\"pubDate\":\"Monday, December 6, 2021\",\"creator\":\"Bobby Holley\",\"summary\":\"In Firefox 95, we\\'re shipping a novel sandboxing technology called RLBox — developed in collaboration with researchers at the University of California San Diego and the University of Texas — that makes it easy and efficient to isolate subcomponents to make the browser more secure. This technology opens up new opportunities beyond what\\'s been possible with traditional process-based sandboxing, and we look forward to expanding its usage and (hopefully) seeing it adopted in other browsers and software projects.The post WebAssembly and Back Again: Fine-Grained Sandboxing in Firefox 95 appeared first on Mozilla Hacks - the Web developer blog.\"},{\"url\":\"https://hacks.mozilla.org/2021/11/hacks-decoded-seyi-akiwowo-founder-of-glitch/\",\"title\":\"Hacks Decoded: Seyi Akiwowo, Founder of Glitch\",\"pubDate\":\"Tuesday, November 30, 2021\",\"creator\":\"Xavier Harding\",\"summary\":\"Seyi Akiwowo’s reputation precedes her. Akiwowo is the founder of Glitch, an organization that seeks to end online abuse.\\xa0We spoke with Seyi over video chat to learn about what drives her, why she does what she does and what she’d be doing if not battling trolls online for a living. The post Hacks Decoded: Seyi Akiwowo, Founder of Glitch appeared first on Mozilla Hacks - the Web developer blog.\"},{\"url\":\"https://hacks.mozilla.org/2021/10/hacks-decoded-thomas-park-founder-of-codepip/\",\"title\":\"Hacks Decoded: Thomas Park, Founder of Codepip\",\"pubDate\":\"Wednesday, October 20, 2021\",\"creator\":\"Xavier Harding\",\"summary\":\"Welcome to our Hacks: Decoded Interview series! We spoke with Thomas Park over email about coding, his favourite apps and his past life at Mozilla. Thomas is the founder of Codepip, a platform he created for coding games that helps people learn HTML, CSS, JavaScript, etc. The most popular game is Flexbox Froggy.The post Hacks Decoded: Thomas Park, Founder of Codepip appeared first on Mozilla Hacks - the Web developer blog.\"},{\"url\":\"https://hacks.mozilla.org/2021/10/lots-to-see-in-firefox-93/\",\"title\":\"Lots to see in Firefox 93!\",\"pubDate\":\"Friday, October 8, 2021\",\"creator\":\"Ruth John\",\"summary\":\"Firefox 93 comes with lots of lovely updates including AVIF image format support, filling of XFA-based forms in its PDF viewer and protection against insecure downloads by blocking downloads relying on insecure connections.The post Lots to see in Firefox 93! appeared first on Mozilla Hacks - the Web developer blog.\"},{\"url\":\"https://hacks.mozilla.org/2021/10/implementing-form-filling-and-accessibility-in-the-firefox-pdf-viewer/\",\"title\":\"Implementing form filling and accessibility in the Firefox PDF viewer\",\"pubDate\":\"Thursday, October 7, 2021\",\"creator\":\"bdahl\",\"summary\":\"Last year, during lockdown, many discovered the importance of PDF forms when having to deal remotely with administrations and large organizations like banks. Firefox supported displaying PDF forms, but it didn’t support filling them: users had to print them, fill them by hand, and scan them back to digital form. We decided it was time to reinvest in the PDF viewer (PDF.js) and support filling PDF forms within Firefox to make our users\\' lives easier.The post Implementing form filling and accessibility in the Firefox PDF viewer appeared first on Mozilla Hacks - the Web developer blog.\"}]}</script></body></html>'"
      ]
     },
     "execution_count": 16,
     "metadata": {},
     "output_type": "execute_result"
    }
   ],
   "source": [
    "# make an HTTP GET request\n",
    "url=\"https://developer.mozilla.org/en-US/\"\n",
    "resp = requests.get(url)\n",
    "\n",
    "resp.text"
   ]
  },
  {
   "cell_type": "code",
   "execution_count": 27,
   "metadata": {
    "slideshow": {
     "slide_type": "notes"
    }
   },
   "outputs": [
    {
     "name": "stdout",
     "output_type": "stream",
     "text": [
      "\n",
      "import requests\n",
      "\n",
      "url = \"https://developer.mozilla.org/\"\n",
      "url_params = {\"test_param\":23}\n",
      "resp = requests.get(url, params=url_params)\n",
      "\n",
      "resp.status_code\n"
     ]
    }
   ],
   "source": [
    "print(\"\"\"\n",
    "import requests\n",
    "\n",
    "url = \"https://developer.mozilla.org/\"\n",
    "url_params = {\"test_param\":23}\n",
    "resp = requests.get(url, params=url_params)\n",
    "\n",
    "resp.status_code\"\"\")"
   ]
  },
  {
   "cell_type": "markdown",
   "metadata": {
    "slideshow": {
     "slide_type": "subslide"
    }
   },
   "source": [
    "## HTML\n",
    "\n",
    "HTML main purpose is to define the **structure** of a web page.\n",
    "\n",
    "HTML files contains a series of **nested elements** that wrap the content and make it appear or beahave in a certain way."
   ]
  },
  {
   "cell_type": "markdown",
   "metadata": {
    "slideshow": {
     "slide_type": "subslide"
    }
   },
   "source": [
    "<center><img src=\"https://developer.mozilla.org/en-US/docs/Learn/Getting_started_with_the_web/HTML_basics/grumpy-cat-small.png\" width=70% /></center>\n",
    "\n",
    "HTML elements could also have attached *attributes*\n",
    "\n",
    "\n",
    "\n",
    "<center><img src=\"https://developer.mozilla.org/en-US/docs/Learn/Getting_started_with_the_web/HTML_basics/grumpy-cat-attribute-small.png\" width=75% /></center>\n",
    "\n"
   ]
  },
  {
   "cell_type": "markdown",
   "metadata": {
    "slideshow": {
     "slide_type": "subslide"
    }
   },
   "source": [
    "#### HTML DOM\n",
    "\n",
    "\n",
    "\n",
    "```HTML\n",
    "<body>\n",
    "    <h1> Title </h1>\n",
    "    <p> Lorem ipsum dolor sit amet </p>\n",
    "    <ul>\n",
    "        <li> ... </li>\n",
    "        <li> ... </li>\n",
    "        <li> ... </li>\n",
    "    </ul>\n",
    "</body>\n",
    "```\n",
    "\n",
    "\n",
    "<img src=\"https://www.dottedsquirrel.com/content/images/2021/03/csssiblings.png\" width=70% />\n",
    "\n",
    "\n",
    "\n",
    "\n"
   ]
  },
  {
   "cell_type": "markdown",
   "metadata": {
    "slideshow": {
     "slide_type": "subslide"
    }
   },
   "source": [
    "We can parse and access HTML elements using [BeautifulSoup](https://www.crummy.com/software/BeautifulSoup/bs4/doc/) library"
   ]
  },
  {
   "cell_type": "code",
   "execution_count": 25,
   "metadata": {
    "slideshow": {
     "slide_type": "-"
    }
   },
   "outputs": [
    {
     "data": {
      "text/plain": [
       "bs4.element.Tag"
      ]
     },
     "execution_count": 25,
     "metadata": {},
     "output_type": "execute_result"
    }
   ],
   "source": [
    "# parse the HTML\n",
    "\n",
    "from bs4 import BeautifulSoup\n",
    "\n",
    "html_doc = resp.text\n",
    "soup = BeautifulSoup(html_doc, \"html.parser\")\n",
    "\n",
    "type(soup.head) "
   ]
  },
  {
   "cell_type": "code",
   "execution_count": 36,
   "metadata": {
    "slideshow": {
     "slide_type": "notes"
    }
   },
   "outputs": [
    {
     "name": "stdout",
     "output_type": "stream",
     "text": [
      "\n",
      "from bs4 import BeautifulSoup\n",
      "\n",
      "html_doc = resp.content\n",
      "soup = BeautifulSoup(html_doc, 'html.parser')\n",
      "\n",
      "print(soup.prettify()[:200])\n",
      "\n",
      "print(soup.head.prettify())\n",
      "print(type(soup.head))\n"
     ]
    }
   ],
   "source": [
    "print(\"\"\"\n",
    "from bs4 import BeautifulSoup\n",
    "\n",
    "html_doc = resp.content\n",
    "soup = BeautifulSoup(html_doc, 'html.parser')\n",
    "\n",
    "print(soup.prettify()[:200])\n",
    "\n",
    "print(soup.head.prettify())\n",
    "print(type(soup.head))\"\"\")"
   ]
  },
  {
   "cell_type": "markdown",
   "metadata": {
    "slideshow": {
     "slide_type": "subslide"
    }
   },
   "source": [
    "#### With a little help from my friends\n",
    "\n",
    "Let's explore *developer tools' elements* tab"
   ]
  },
  {
   "cell_type": "markdown",
   "metadata": {
    "slideshow": {
     "slide_type": "subslide"
    }
   },
   "source": [
    "Let's try to extract blog post titles"
   ]
  },
  {
   "cell_type": "code",
   "execution_count": 33,
   "metadata": {
    "slideshow": {
     "slide_type": "fragment"
    }
   },
   "outputs": [
    {
     "name": "stdout",
     "output_type": "stream",
     "text": [
      "WebAssembly and Back Again: Fine-Grained Sandboxing in Firefox 95\n",
      "Hacks Decoded: Seyi Akiwowo, Founder of Glitch\n",
      "Hacks Decoded: Thomas Park, Founder of Codepip\n",
      "Lots to see in Firefox 93!\n",
      "Implementing form filling and accessibility in the Firefox PDF viewer\n"
     ]
    }
   ],
   "source": [
    "# extract blog articles titles\n",
    "\n",
    "for el in soup.find_all(\"h3\"):\n",
    "    print(el.a.text)"
   ]
  },
  {
   "cell_type": "code",
   "execution_count": 29,
   "metadata": {
    "slideshow": {
     "slide_type": "notes"
    }
   },
   "outputs": [
    {
     "name": "stdout",
     "output_type": "stream",
     "text": [
      "\n",
      "for el in soup.find_all(\"h3\"):\n",
      "    print(el.a.text)\n",
      "\n"
     ]
    }
   ],
   "source": [
    "print(\"\"\"\n",
    "for el in soup.find_all(\"h3\"):\n",
    "    print(el.a.text)\n",
    "\"\"\")"
   ]
  },
  {
   "cell_type": "markdown",
   "metadata": {
    "slideshow": {
     "slide_type": "slide"
    }
   },
   "source": [
    "# CSS\n",
    "\n",
    "The main purpose of CSS is to define the HTML elements **style** (eg. sizes, colors, animations, etc...). \n",
    "\n",
    "Beforehand to specify the style of an element we need to **select** it, right? These is what **CSS selectors** are used for! "
   ]
  },
  {
   "cell_type": "markdown",
   "metadata": {
    "slideshow": {
     "slide_type": "subslide"
    }
   },
   "source": [
    "CSS selectors is a *mini-language* that allows you to select one or multiple elements in a very clever way.\n",
    "```\n",
    ".classes\n",
    "#ids\n",
    "[attributes=value]\n",
    "parent child\n",
    "parent > child\n",
    "sibling ~ sibling\n",
    "sibling + sibling\n",
    ":not(element.class, element2.class)\n",
    ":is(element.class, element2.class)\n",
    "parent:has(> child)\n",
    "```"
   ]
  },
  {
   "cell_type": "code",
   "execution_count": 57,
   "metadata": {
    "slideshow": {
     "slide_type": "subslide"
    }
   },
   "outputs": [],
   "source": [
    "# build a mini dataset from Mozilla's blog articles\n",
    "\n",
    "titles = []\n",
    "authors = []\n",
    "dates = []\n",
    "articles = []\n",
    "\n",
    "  \n",
    "\n",
    "for article_el in post_elements:\n",
    "    title = article_el.select_one(\"h3 a\").text\n",
    "    titles.append(title)\n",
    "    \n",
    "    post_meta = article_el.select_one(\"p.post-meta\")\n",
    "    data, author = post_meta.text.replace(\"Posted \", \"\").strip().split(\" by \")\n",
    "    \n",
    "    dates.append(data)\n",
    "    authors.append(author)\n",
    "    \n",
    "    articles.append(article_el.select_one(\"p:not(.post-meta)\").text)\n",
    "  \n",
    "import pandas as pd\n",
    "\n",
    "pd.DataFrame({\"title\":titles, \"authors\":authors}).to_csv(\"mini_dataset.csv\")"
   ]
  },
  {
   "cell_type": "code",
   "execution_count": 37,
   "metadata": {
    "slideshow": {
     "slide_type": "notes"
    }
   },
   "outputs": [
    {
     "name": "stdout",
     "output_type": "stream",
     "text": [
      "\n",
      "post_elements = soup.select(\"div.blog-feed > ul > li\")\n",
      "\n",
      "titles = []\n",
      "urls = []\n",
      "descriptions = []\n",
      "dates = []\n",
      "authors = []\n",
      "\n",
      "for post_el in post_elements:\n",
      "    titles.append(post_el.h3.text) \n",
      "    \n",
      "    urls.append(post_el.h3.a[\"href\"])\n",
      "    \n",
      "    post_meta = post_el.select_one(\"p.post-meta\").text\n",
      "    date, author = post_meta.replace(\"Posted\",\"\").strip().split(\" by \") \n",
      "    dates.append(date)\n",
      "    authors.append(author)\n",
      "    \n",
      "    descriptions.append(post_el.select_one(\"p:not(.post-meta)\").text) \n",
      "\n",
      "\n",
      "import pandas as pd\n",
      "\n",
      "mini_dataset = pd.DataFrame({\"title\": titles, \"url\":urls,\n",
      "                             \"description\": descriptions, \"dates\": dates,\n",
      "                             \"author\": authors})\n",
      "\n",
      "mini_dataset.to_csv(\"mini_dataset_mozilla.csv\")\n"
     ]
    }
   ],
   "source": [
    "print(\"\"\"\n",
    "post_elements = soup.select(\"div.blog-feed > ul > li\")\n",
    "\n",
    "titles = []\n",
    "urls = []\n",
    "descriptions = []\n",
    "dates = []\n",
    "authors = []\n",
    "\n",
    "for post_el in post_elements:\n",
    "    titles.append(post_el.h3.text) \n",
    "    \n",
    "    urls.append(post_el.h3.a[\"href\"])\n",
    "    \n",
    "    post_meta = post_el.select_one(\"p.post-meta\").text\n",
    "    date, author = post_meta.replace(\"Posted\",\"\").strip().split(\" by \") \n",
    "    dates.append(date)\n",
    "    authors.append(author)\n",
    "    \n",
    "    descriptions.append(post_el.select_one(\"p:not(.post-meta)\").text) \n",
    "\n",
    "\n",
    "import pandas as pd\n",
    "\n",
    "mini_dataset = pd.DataFrame({\"title\": titles, \"url\":urls,\n",
    "                             \"description\": descriptions, \"dates\": dates,\n",
    "                             \"author\": authors})\n",
    "\n",
    "mini_dataset.to_csv(\"mini_dataset_mozilla.csv\")\"\"\")"
   ]
  },
  {
   "cell_type": "markdown",
   "metadata": {
    "slideshow": {
     "slide_type": "subslide"
    }
   },
   "source": [
    "Some stuff to notice:\n",
    "* the selected element is always the **right-most**.\n",
    "* the selection is always **relative** to the (root) node we are working on."
   ]
  },
  {
   "cell_type": "markdown",
   "metadata": {
    "slideshow": {
     "slide_type": "slide"
    }
   },
   "source": [
    "## All you need is XPath\n",
    "\n",
    "Query language for selecting HTML (XML) elements.\n",
    "\n",
    "<img src=\"https://www.softwaretestinghelp.com/wp-content/qa/uploads/2019/05/XPATH-Syntax-screenshot-1-1.png\" width=60% />\n",
    "\n",
    "Some advantages:\n",
    "* Bidirectional flow $\\rightarrow$ moving left-right, up-down\n",
    "* Partial matching with *contains()*\n",
    "\n",
    "\n"
   ]
  },
  {
   "cell_type": "markdown",
   "metadata": {
    "slideshow": {
     "slide_type": "slide"
    }
   },
   "source": [
    "# JS\n",
    "\n",
    "JS main purpose is to add **dynamic functionalities and behaviours** to a web page.\n",
    "\n",
    "JS code **could change** the underlying HTML structure or elements styles, but can also \"silently\" send HTTP requests to other servers (eg. for retrieving data from web api)\n",
    "\n"
   ]
  },
  {
   "cell_type": "markdown",
   "metadata": {
    "slideshow": {
     "slide_type": "subslide"
    }
   },
   "source": [
    "#### With a little help from my friends\n",
    "\n",
    "Let's explore *view source* of [this website](http://elezioni2015.consiglioveneto.it/elezioni2015/regionali/)"
   ]
  },
  {
   "cell_type": "markdown",
   "metadata": {
    "slideshow": {
     "slide_type": "subslide"
    }
   },
   "source": [
    "#### Headless browsers to the rescue\n",
    "\n",
    "Provides automated control of a web page without actually render and display it:\n",
    "* js running\n",
    "* automatic interaction (eg. click on an button, compiling a form, etc.)\n",
    "\n",
    "Some solutions:\n",
    "* [requests-html](https://github.com/psf/requests-html)\n",
    "* [Selenium](https://selenium.dev)\n",
    "* [Scrapy-selenium](https://github.com/clemfromspace/scrapy-selenium)"
   ]
  },
  {
   "cell_type": "markdown",
   "metadata": {
    "slideshow": {
     "slide_type": "slide"
    }
   },
   "source": [
    "## Scraping or Crawling?\n",
    "\n",
    "* extract information from few web pages $\\rightarrow$ scraping 🔎\n",
    "* discover rules and links following? $\\rightarrow$ \"Crawl it up baby now\" 💃🕺"
   ]
  },
  {
   "cell_type": "markdown",
   "metadata": {
    "slideshow": {
     "slide_type": "subslide"
    }
   },
   "source": [
    " #### Scrapy\n",
    "    \n",
    "Scrapy is a *framework*, so it expects from you to:\n",
    "\n",
    "* fit your mental model to the framework conceptual model and execution flow\n",
    "* follow conventions and rules (eg. directories stucture)\n",
    "* extend and use framework' classes and tools"
   ]
  },
  {
   "cell_type": "markdown",
   "metadata": {
    "slideshow": {
     "slide_type": "subslide"
    }
   },
   "source": [
    "#### How Scrapy works?\n",
    "\n",
    "<img src=\"https://docs.scrapy.org/en/latest/_images/scrapy_architecture_02.png\" width=60% />"
   ]
  },
  {
   "cell_type": "markdown",
   "metadata": {
    "slideshow": {
     "slide_type": "slide"
    }
   },
   "source": [
    "Let's crawl [Pagella Politica](https://pagellapolitica.it/) to build a fact checking dataset"
   ]
  },
  {
   "cell_type": "markdown",
   "metadata": {
    "slideshow": {
     "slide_type": "subslide"
    }
   },
   "source": [
    "Scrapy CLI\n",
    "\n",
    "Scray provides a CLI tool to manage projects and spiders"
   ]
  },
  {
   "cell_type": "markdown",
   "metadata": {
    "slideshow": {
     "slide_type": "fragment"
    }
   },
   "source": [
    "To initialize a project:\n",
    "\n",
    "```scrapy startproject fact_checking```"
   ]
  },
  {
   "cell_type": "markdown",
   "metadata": {
    "slideshow": {
     "slide_type": "fragment"
    }
   },
   "source": [
    "To create a spider:\n",
    "\n",
    "`scrapy genspider pagellapolitica pagellapolitica.it`"
   ]
  },
  {
   "cell_type": "markdown",
   "metadata": {
    "slideshow": {
     "slide_type": "fragment"
    }
   },
   "source": [
    "To run the spider:\n",
    "\n",
    "`scrapy crawl pagellapolitica`"
   ]
  },
  {
   "cell_type": "markdown",
   "metadata": {
    "slideshow": {
     "slide_type": "subslide"
    }
   },
   "source": [
    "Let's switch to the same ol' vs code"
   ]
  },
  {
   "cell_type": "markdown",
   "metadata": {
    "slideshow": {
     "slide_type": "slide"
    }
   },
   "source": [
    "# Legal and Ethical Concerns\n",
    "\n",
    "Is web scraping a legal activity? \n",
    "\n",
    "... \"ish\"\n",
    "\n",
    "We are collecting public available data after all... but be a nice human:\n",
    "* present yourself: leave information about the crawlers owners and how to contact you \n",
    "* respect *robots.txt*\n",
    "* limits your requests firing rate\n",
    "* check the  website' *terms and conditions*.\n",
    "* respect the website owner's will. [Read more](https://jaxenter.com/data-scraping-cases-165385.html) \n",
    "\n",
    "Remember: scraping always implies consuming someone else computing resources!"
   ]
  },
  {
   "cell_type": "markdown",
   "metadata": {
    "slideshow": {
     "slide_type": "slide"
    }
   },
   "source": [
    "# Some tips:\n",
    "\n",
    "* Check the API then scrape by yourself\n",
    "* Select your elements with \"*least-likely change*\" heuristic\n",
    "* Nowadays web is dynamic! Always check page source code.\n",
    "* Web page evolves, your scraper should change accordingly. Try to anticipate these changes and make a robust scraper!\n",
    "* Scraping some pages could be not so easy: frontend developers will be your best friends 👩‍💻👨‍💻"
   ]
  },
  {
   "cell_type": "markdown",
   "metadata": {
    "slideshow": {
     "slide_type": "slide"
    }
   },
   "source": [
    "#### Did you find the easter-eggs?\n",
    "\n"
   ]
  },
  {
   "cell_type": "markdown",
   "metadata": {
    "slideshow": {
     "slide_type": "fragment"
    }
   },
   "source": [
    "<img src=\"https://londonita.com/wp-content/uploads/2020/02/Abbey-Road-beatles.jpg\" width=45% />"
   ]
  },
  {
   "cell_type": "markdown",
   "metadata": {
    "slideshow": {
     "slide_type": "slide"
    }
   },
   "source": [
    "References\n",
    "\n",
    "* for HTTP, HTML, CSS, JS: [MDN web docs](https://developer.mozilla.org/en-US/docs/Web)\n",
    "* for CSS selectors: [dotted squirrel visual guide](https://www.dottedsquirrel.com/the-ultimate-visual-guide-to-css-selectors/)\n",
    "* Scrapy: [official documentation](https://docs.scrapy.org/en/latest/)\n",
    "\n",
    "Further readings: Seppe Vanden, BrouckeBart Baesens; [Practical Web Scraping for Data Science](https://link.springer.com/book/10.1007/978-1-4842-3582-9)\n"
   ]
  }
 ],
 "metadata": {
  "celltoolbar": "Slideshow",
  "interpreter": {
   "hash": "d6276d485b35ba42ea6e9b54e122e31e4d2de6f28e316ab2edf21d84add80407"
  },
  "kernelspec": {
   "display_name": "Python 3 (ipykernel)",
   "language": "python",
   "name": "python3"
  },
  "language_info": {
   "codemirror_mode": {
    "name": "ipython",
    "version": 3
   },
   "file_extension": ".py",
   "mimetype": "text/x-python",
   "name": "python",
   "nbconvert_exporter": "python",
   "pygments_lexer": "ipython3",
   "version": "3.9.7"
  },
  "rise": {
   "scroll": true
  }
 },
 "nbformat": 4,
 "nbformat_minor": 2
}
